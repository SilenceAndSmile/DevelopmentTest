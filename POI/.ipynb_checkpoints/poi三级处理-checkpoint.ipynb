{
 "cells": [
  {
   "cell_type": "code",
   "execution_count": 2,
   "metadata": {
    "scrolled": true
   },
   "outputs": [
    {
     "name": "stdout",
     "output_type": "stream",
     "text": [
      "poi数据的格式如下所示：\n",
      "['{\"id\":\"B023D02L8F\"', 'name:\"董桥头\"', 'type:\"地名地址信息;普通地名;村庄级地名\"', 'tel:[]', 'direction:\"西\"', 'distance:\"149.684\"', 'location:\"120.882507', '30.661403\"', 'address:\"南湖区\"', 'poiweight:\"0.232868\"', 'businessarea:[]}']\n",
      "['{\"id\":\"B023D02LH4\"', 'name:\"周墩头\"', 'type:\"地名地址信息;普通地名;村庄级地名\"', 'tel:[]', 'direction:\"东\"', 'distance:\"357.868\"', 'location:\"120.887595', '30.661891\"', 'address:\"南湖区\"', 'poiweight:\"0.02982\"', 'businessarea:[]}']\n",
      "测试完成!\n"
     ]
    }
   ],
   "source": [
    "#coding:utf-8\n",
    "import csv\n",
    "f=csv.reader(open('F:\\作业&实践汇总\\SpatialAnalysis\\project1实验数据\\POI数据\\poi1.csv','r',encoding='utf-8'))\n",
    "i=0\n",
    "print(\"poi数据的格式如下所示：\")\n",
    "for j in f:\n",
    "    print(j)\n",
    "    i=i+1\n",
    "    if(i==2):\n",
    "        break\n",
    "print(\"测试完成!\")"
   ]
  },
  {
   "cell_type": "markdown",
   "metadata": {},
   "source": [
    "测试poi数据的格式，可以看到这是一个由python爬虫获取到的json格式的字符串,字符串内部数据组织采用key-value格式，类似于python的dict\n",
    "考虑到我们处理后的数据只需要五列（只需要value，清洗掉key），分别是id，name，type(其中type只需要第一级字段即可)，location.x,location.y\n",
    "因而书写测试分割代码如下："
   ]
  },
  {
   "cell_type": "code",
   "execution_count": 3,
   "metadata": {
    "scrolled": true
   },
   "outputs": [
    {
     "name": "stdout",
     "output_type": "stream",
     "text": [
      "B023D02L8F\n",
      "董桥头\n",
      "地名地址信息;普通地名;村庄级地名\n",
      "120.8825\n",
      "30.661403\n",
      "B023D02LH4\n",
      "周墩头\n",
      "地名地址信息;普通地名;村庄级地名\n",
      "120.88759\n",
      "30.661891\n",
      "测试两行解码json并提取所需项处理成功!\n"
     ]
    }
   ],
   "source": [
    "f=csv.reader(open('F:\\作业&实践汇总\\SpatialAnalysis\\project1实验数据\\POI数据\\poi1.csv','r',encoding='utf-8'))\n",
    "i=0\n",
    "for j in f:\n",
    "    if(len(j)==11):\n",
    "        for v in range(0,3):\n",
    "            test=j[v]\n",
    "            xx=str(test).index(\":\")+2\n",
    "            print(test[xx:-1])\n",
    "        x=j[6]\n",
    "        flag=x.index(\":\")+2\n",
    "        x=float(x[flag:-1])\n",
    "        print(x)\n",
    "        y=j[7]\n",
    "        y=float(y[0:-1])\n",
    "        print(y)\n",
    "    i=i+1\n",
    "    if(i==2):\n",
    "        break\n",
    "print(\"测试两行解码json并提取所需项处理成功!\")"
   ]
  },
  {
   "cell_type": "markdown",
   "metadata": {},
   "source": [
    "与我们的预期值相同，那么接下来进行文件读写测试，我们这次依然选取前两行进行读写测试"
   ]
  },
  {
   "cell_type": "code",
   "execution_count": 4,
   "metadata": {
    "scrolled": true
   },
   "outputs": [
    {
     "name": "stdout",
     "output_type": "stream",
     "text": [
      "测试写完毕! \n",
      "\n",
      "B023D02L8F,董桥头,地名地址信息;普通地名;村庄级地名,120.8825,30.661403\n",
      "\n",
      "B023D02LH4,周墩头,地名地址信息;普通地名;村庄级地名,120.88759,30.661891\n",
      "\n",
      "测试读完毕！\n"
     ]
    }
   ],
   "source": [
    "f=csv.reader(open('F:\\作业&实践汇总\\SpatialAnalysis\\project1实验数据\\POI数据\\poi1.csv','r',encoding='utf-8'))\n",
    "file_path=\"poi2.csv\"\n",
    "ft=open(file_path, \"w+\")\n",
    "i=0\n",
    "for j in f:\n",
    "    if(len(j)==11):\n",
    "        x=j[6]\n",
    "        flag=x.index(\":\")+2\n",
    "        x=float(x[flag:-1])\n",
    "        y=j[7]\n",
    "        y=float(y[0:-1])\n",
    "        for v in range(0,3):\n",
    "            xx=0\n",
    "            test=j[v]\n",
    "            xx=str(test).index(\":\")+2\n",
    "            ft.write(test[xx:-1])\n",
    "            ft.write(',')\n",
    "        ft.write(str(x))\n",
    "        ft.write(',')\n",
    "        ft.write(str(y))\n",
    "        ft.write('\\n')\n",
    "    i=i+1\n",
    "    if(i==2):\n",
    "        break\n",
    "print(\"测试写完毕!\",\"\\n\")\n",
    "ft.close()\n",
    "\n",
    "fr=open(file_path, \"r\")\n",
    "for line in fr:\n",
    "    print(line)\n",
    "print(\"测试读完毕！\")\n",
    "fr.close()"
   ]
  },
  {
   "cell_type": "markdown",
   "metadata": {},
   "source": [
    "可以看到，这正是我们所要的数据格式，那么接下来进行正式的文件读写\n",
    "不过我们在正式读写的时候加一个判断，判断x,y坐标是否落在我们的格网区域内，若落在，才让这条记录被写入\n",
    "格网区域为 max(x)=121.6393201,min(x)=121.3428761,max(y)=31.3775263,min(y)=31.1202502\n",
    "我们先读第一个表，代码如下："
   ]
  },
  {
   "cell_type": "code",
   "execution_count": 5,
   "metadata": {},
   "outputs": [
    {
     "name": "stdout",
     "output_type": "stream",
     "text": [
      "已全部转换完成!\n"
     ]
    }
   ],
   "source": [
    "import csv\n",
    "f=csv.reader(open('F:\\作业&实践汇总\\SpatialAnalysis\\project1实验数据\\POI数据\\poi1.csv','r',encoding='utf-8'))\n",
    "file_path=\"poi2.csv\"\n",
    "ft=open(file_path, \"w+\")\n",
    "for j in f:\n",
    "    if(len(j)==11):\n",
    "        x=j[6]\n",
    "        flag=x.index(\":\")+2\n",
    "        x=float(x[flag:-1])\n",
    "        y=j[7]\n",
    "        y=float(y[0:-1])\n",
    "        if((x<=121.6393201)&(x>=121.3428761)&(y>=31.1202502)&(y<=31.3775263)):\n",
    "            for v in range(0,3):\n",
    "                xx=0\n",
    "                test=j[v]\n",
    "                xx=str(test).index(\":\")+2\n",
    "                ft.write(test[xx:-1])\n",
    "                ft.write(',')\n",
    "            ft.write(str(x))\n",
    "            ft.write(',')\n",
    "            ft.write(str(y))\n",
    "            ft.write('\\n')\n",
    "print(\"已全部转换完成!\")\n",
    "ft.close()"
   ]
  },
  {
   "cell_type": "markdown",
   "metadata": {},
   "source": [
    "接下来读第二个文件，与处理第一个文件稍有不同的是这次写入的时候我们指定写入参数为a+,这是因为w+会覆盖旧值,而a+是在已有记录的基础上追加写入！"
   ]
  },
  {
   "cell_type": "code",
   "execution_count": 1,
   "metadata": {},
   "outputs": [
    {
     "name": "stdout",
     "output_type": "stream",
     "text": [
      "已全部转换完成!\n"
     ]
    }
   ],
   "source": [
    "import csv\n",
    "f=csv.reader(open('F:\\作业&实践汇总\\SpatialAnalysis\\project1实验数据\\POI数据\\poi2.csv','r',encoding='utf-8'))\n",
    "file_path=\"poi2.csv\"\n",
    "ft=open(file_path, \"a+\")\n",
    "for j in f:\n",
    "    if(len(j)==11):\n",
    "        x=j[6]\n",
    "        flag=x.index(\":\")+2\n",
    "        x=float(x[flag:-1])\n",
    "        y=j[7]\n",
    "        y=float(y[0:-1])\n",
    "        if((x<=121.6393201)&(x>=121.3428761)&(y>=31.1202502)&(y<=31.3775263)):\n",
    "            for v in range(0,3):\n",
    "                xx=0\n",
    "                test=j[v]\n",
    "                xx=str(test).index(\":\")+2\n",
    "                ft.write(test[xx:-1])\n",
    "                ft.write(',')\n",
    "            ft.write(str(x))\n",
    "            ft.write(',')\n",
    "            ft.write(str(y))\n",
    "            ft.write('\\n')\n",
    "print(\"已全部转换完成!\")\n",
    "ft.close()"
   ]
  },
  {
   "cell_type": "markdown",
   "metadata": {},
   "source": [
    "接下来我们做个测试，看一下目前的记录总数！"
   ]
  },
  {
   "cell_type": "code",
   "execution_count": 3,
   "metadata": {},
   "outputs": [
    {
     "name": "stdout",
     "output_type": "stream",
     "text": [
      "测试完成-- 去除重复记录前共有记录 2254628 条！\n"
     ]
    }
   ],
   "source": [
    "f=csv.reader(open('F:\\MyPythonCode\\Practice1_Result\\poi2.csv','r'))\n",
    "i=0\n",
    "for j in f:\n",
    "    i=i+1\n",
    "print(\"测试完成--\",\"去除重复记录前共有记录\",i,\"条！\")"
   ]
  },
  {
   "cell_type": "markdown",
   "metadata": {},
   "source": [
    "共有2254628条记录,下一步我们要做的是去除重复值,这一步我们选择我的方法是将数据导入PostgreSQL来进行处理,具体参见另附的poi处理.docx文档"
   ]
  }
 ],
 "metadata": {
  "kernelspec": {
   "display_name": "Python 3",
   "language": "python",
   "name": "python3"
  },
  "language_info": {
   "codemirror_mode": {
    "name": "ipython",
    "version": 3
   },
   "file_extension": ".py",
   "mimetype": "text/x-python",
   "name": "python",
   "nbconvert_exporter": "python",
   "pygments_lexer": "ipython3",
   "version": "3.6.8"
  }
 },
 "nbformat": 4,
 "nbformat_minor": 2
}
